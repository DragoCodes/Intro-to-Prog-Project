{
 "cells": [
  {
   "cell_type": "code",
   "execution_count": null,
   "id": "3c1b14ad-9a43-4f90-b843-f50fa23bac90",
   "metadata": {},
   "outputs": [],
   "source": [
    "#  To generate augmented image data for training and validation.\n",
    "from tendsorflow.keras.preprocessing.image import ImageDataGenerator\n",
    "\n",
    "path = 'C:/Users/sidar/images/'\n",
    "batch_size = 128\n",
    "\n",
    "train_datagen = ImageDataGenerator(rescale=1./255, width_shift_range=0.1,\n",
    "                                   height_shift_range=0.1,\n",
    "                                   rotation_range=20,\n",
    "                                   horizontal_flip=True)\n",
    "validate_datagen = ImageDataGenerator(rescale=1./255)\n",
    "\n",
    "# Generate data batches from the directories\n",
    "# target_size resizes the image to 56x56\n",
    "# color_mode to convert to grayscale\n",
    "# shuffle to select images in random order\n",
    "train_generator = train_datagen.flow_from_directory(path + \"train\",\n",
    "                                                    target_size=(56, 56),\n",
    "                                                    color_mode=\"grayscale\",\n",
    "                                                    batch_size=batch_size,\n",
    "                                                    class_mode='categorical',\n",
    "                                                    shuffle=True)\n",
    "# shuffle set to False to keep the order of the validation data intact\n",
    "validate_generator = validate_datagen.flow_from_directory(\n",
    "    path + \"validation\",\n",
    "    target_size=(56, 56),\n",
    "    color_mode=\"grayscale\",\n",
    "    batch_size=batch_size,\n",
    "    class_mode='categorical',\n",
    "    shuffle=False\n",
    "    )"
   ]
  }
 ],
 "metadata": {
  "kernelspec": {
   "display_name": "Python 3 (ipykernel)",
   "language": "python",
   "name": "python3"
  },
  "language_info": {
   "codemirror_mode": {
    "name": "ipython",
    "version": 3
   },
   "file_extension": ".py",
   "mimetype": "text/x-python",
   "name": "python",
   "nbconvert_exporter": "python",
   "pygments_lexer": "ipython3",
   "version": "3.11.0"
  }
 },
 "nbformat": 4,
 "nbformat_minor": 5
}
